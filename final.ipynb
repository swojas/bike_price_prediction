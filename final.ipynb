{
 "cells": [
  {
   "cell_type": "code",
   "execution_count": 2,
   "id": "a9a8553f",
   "metadata": {},
   "outputs": [],
   "source": [
    "import pandas as pd\n",
    "import numpy as np\n",
    "import matplotlib.pyplot as plt\n",
    "import pickle"
   ]
  },
  {
   "cell_type": "code",
   "execution_count": 3,
   "id": "fd9b3806",
   "metadata": {},
   "outputs": [],
   "source": [
    "dataset = pd.read_csv('BIKE DETAILS.csv')"
   ]
  },
  {
   "cell_type": "code",
   "execution_count": 4,
   "id": "d8f8ee22",
   "metadata": {},
   "outputs": [],
   "source": [
    "dataset['current_year'] = 2021\n",
    "dataset['diff_year'] = dataset['current_year'] - dataset['year']\n",
    "dataset.drop(['year', 'current_year', 'name'], axis=1, inplace=True)\n",
    "dataset.replace({'1st owner':1, '2nd owner':2, '3rd owner':3, '4th owner':4}, inplace=True)"
   ]
  },
  {
   "cell_type": "code",
   "execution_count": 5,
   "id": "d57b9b02",
   "metadata": {},
   "outputs": [],
   "source": [
    "dataset = pd.get_dummies(dataset, drop_first=True)"
   ]
  },
  {
   "cell_type": "code",
   "execution_count": 6,
   "id": "d43c2038",
   "metadata": {},
   "outputs": [],
   "source": [
    "dataset.dropna(inplace=True)"
   ]
  },
  {
   "cell_type": "code",
   "execution_count": 7,
   "id": "0609e7b3",
   "metadata": {},
   "outputs": [],
   "source": [
    "X = dataset.iloc[:, 1:].values\n",
    "y = dataset.iloc[:, 0].values"
   ]
  },
  {
   "cell_type": "code",
   "execution_count": 8,
   "id": "b1e7c1ac",
   "metadata": {},
   "outputs": [],
   "source": [
    "from sklearn.model_selection import train_test_split\n",
    "X_train, X_test, y_train, y_test = train_test_split(X, y, test_size=0.2, random_state=0)"
   ]
  },
  {
   "cell_type": "code",
   "execution_count": 9,
   "id": "25fcd64a",
   "metadata": {},
   "outputs": [
    {
     "data": {
      "text/plain": [
       "Pipeline(steps=[('standardscaler', StandardScaler()),\n",
       "                ('svr', SVR(epsilon=0.2))])"
      ]
     },
     "execution_count": 9,
     "metadata": {},
     "output_type": "execute_result"
    }
   ],
   "source": [
    "from sklearn.svm import SVR\n",
    "from sklearn.pipeline import make_pipeline\n",
    "from sklearn.preprocessing import StandardScaler\n",
    "regressor = make_pipeline(StandardScaler(), SVR(C=1.0, epsilon=0.2))\n",
    "regressor.fit(X_train, y_train)"
   ]
  },
  {
   "cell_type": "code",
   "execution_count": 10,
   "id": "1b824048",
   "metadata": {},
   "outputs": [],
   "source": [
    "pickle.dump(regressor, open('model.pkl', 'wb'))\n",
    "model = pickle.load(open('model.pkl', 'rb'))"
   ]
  },
  {
   "cell_type": "code",
   "execution_count": 11,
   "id": "da6cd9c2",
   "metadata": {},
   "outputs": [
    {
     "data": {
      "text/html": [
       "<div>\n",
       "<style scoped>\n",
       "    .dataframe tbody tr th:only-of-type {\n",
       "        vertical-align: middle;\n",
       "    }\n",
       "\n",
       "    .dataframe tbody tr th {\n",
       "        vertical-align: top;\n",
       "    }\n",
       "\n",
       "    .dataframe thead th {\n",
       "        text-align: right;\n",
       "    }\n",
       "</style>\n",
       "<table border=\"1\" class=\"dataframe\">\n",
       "  <thead>\n",
       "    <tr style=\"text-align: right;\">\n",
       "      <th></th>\n",
       "      <th>selling_price</th>\n",
       "      <th>owner</th>\n",
       "      <th>km_driven</th>\n",
       "      <th>ex_showroom_price</th>\n",
       "      <th>diff_year</th>\n",
       "      <th>seller_type_Individual</th>\n",
       "    </tr>\n",
       "  </thead>\n",
       "  <tbody>\n",
       "    <tr>\n",
       "      <th>2</th>\n",
       "      <td>150000</td>\n",
       "      <td>1</td>\n",
       "      <td>12000</td>\n",
       "      <td>148114.0</td>\n",
       "      <td>3</td>\n",
       "      <td>1</td>\n",
       "    </tr>\n",
       "    <tr>\n",
       "      <th>3</th>\n",
       "      <td>65000</td>\n",
       "      <td>1</td>\n",
       "      <td>23000</td>\n",
       "      <td>89643.0</td>\n",
       "      <td>6</td>\n",
       "      <td>1</td>\n",
       "    </tr>\n",
       "    <tr>\n",
       "      <th>5</th>\n",
       "      <td>18000</td>\n",
       "      <td>1</td>\n",
       "      <td>60000</td>\n",
       "      <td>53857.0</td>\n",
       "      <td>11</td>\n",
       "      <td>1</td>\n",
       "    </tr>\n",
       "    <tr>\n",
       "      <th>6</th>\n",
       "      <td>78500</td>\n",
       "      <td>1</td>\n",
       "      <td>17000</td>\n",
       "      <td>87719.0</td>\n",
       "      <td>3</td>\n",
       "      <td>1</td>\n",
       "    </tr>\n",
       "    <tr>\n",
       "      <th>9</th>\n",
       "      <td>50000</td>\n",
       "      <td>1</td>\n",
       "      <td>42000</td>\n",
       "      <td>60122.0</td>\n",
       "      <td>5</td>\n",
       "      <td>1</td>\n",
       "    </tr>\n",
       "    <tr>\n",
       "      <th>...</th>\n",
       "      <td>...</td>\n",
       "      <td>...</td>\n",
       "      <td>...</td>\n",
       "      <td>...</td>\n",
       "      <td>...</td>\n",
       "      <td>...</td>\n",
       "    </tr>\n",
       "    <tr>\n",
       "      <th>1056</th>\n",
       "      <td>17000</td>\n",
       "      <td>1</td>\n",
       "      <td>500000</td>\n",
       "      <td>52000.0</td>\n",
       "      <td>11</td>\n",
       "      <td>1</td>\n",
       "    </tr>\n",
       "    <tr>\n",
       "      <th>1057</th>\n",
       "      <td>16000</td>\n",
       "      <td>1</td>\n",
       "      <td>33000</td>\n",
       "      <td>51000.0</td>\n",
       "      <td>9</td>\n",
       "      <td>1</td>\n",
       "    </tr>\n",
       "    <tr>\n",
       "      <th>1058</th>\n",
       "      <td>15000</td>\n",
       "      <td>2</td>\n",
       "      <td>35000</td>\n",
       "      <td>57000.0</td>\n",
       "      <td>8</td>\n",
       "      <td>1</td>\n",
       "    </tr>\n",
       "    <tr>\n",
       "      <th>1059</th>\n",
       "      <td>12000</td>\n",
       "      <td>1</td>\n",
       "      <td>53000</td>\n",
       "      <td>58000.0</td>\n",
       "      <td>12</td>\n",
       "      <td>1</td>\n",
       "    </tr>\n",
       "    <tr>\n",
       "      <th>1060</th>\n",
       "      <td>10000</td>\n",
       "      <td>1</td>\n",
       "      <td>92233</td>\n",
       "      <td>75000.0</td>\n",
       "      <td>13</td>\n",
       "      <td>1</td>\n",
       "    </tr>\n",
       "  </tbody>\n",
       "</table>\n",
       "<p>626 rows × 6 columns</p>\n",
       "</div>"
      ],
      "text/plain": [
       "      selling_price  owner  km_driven  ex_showroom_price  diff_year  \\\n",
       "2            150000      1      12000           148114.0          3   \n",
       "3             65000      1      23000            89643.0          6   \n",
       "5             18000      1      60000            53857.0         11   \n",
       "6             78500      1      17000            87719.0          3   \n",
       "9             50000      1      42000            60122.0          5   \n",
       "...             ...    ...        ...                ...        ...   \n",
       "1056          17000      1     500000            52000.0         11   \n",
       "1057          16000      1      33000            51000.0          9   \n",
       "1058          15000      2      35000            57000.0          8   \n",
       "1059          12000      1      53000            58000.0         12   \n",
       "1060          10000      1      92233            75000.0         13   \n",
       "\n",
       "      seller_type_Individual  \n",
       "2                          1  \n",
       "3                          1  \n",
       "5                          1  \n",
       "6                          1  \n",
       "9                          1  \n",
       "...                      ...  \n",
       "1056                       1  \n",
       "1057                       1  \n",
       "1058                       1  \n",
       "1059                       1  \n",
       "1060                       1  \n",
       "\n",
       "[626 rows x 6 columns]"
      ]
     },
     "execution_count": 11,
     "metadata": {},
     "output_type": "execute_result"
    }
   ],
   "source": [
    "dataset"
   ]
  },
  {
   "cell_type": "code",
   "execution_count": null,
   "id": "f1eb0ec9",
   "metadata": {},
   "outputs": [],
   "source": []
  }
 ],
 "metadata": {
  "kernelspec": {
   "display_name": "Python 3",
   "language": "python",
   "name": "python3"
  },
  "language_info": {
   "codemirror_mode": {
    "name": "ipython",
    "version": 3
   },
   "file_extension": ".py",
   "mimetype": "text/x-python",
   "name": "python",
   "nbconvert_exporter": "python",
   "pygments_lexer": "ipython3",
   "version": "3.8.12"
  }
 },
 "nbformat": 4,
 "nbformat_minor": 5
}
